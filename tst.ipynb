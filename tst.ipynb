{
 "cells": [
  {
   "cell_type": "code",
   "execution_count": 3,
   "id": "bb982d89",
   "metadata": {},
   "outputs": [
    {
     "name": "stdout",
     "output_type": "stream",
     "text": [
      "\n",
      "          Установление параметров для анализа\n",
      "\n",
      "Доступны следующие устройства для анализа: \n",
      "\n",
      "1. Устройство непрерывного контроля и защиты высоковольтных вводов (nkvv)\n",
      "2. Устройство контроля изоляции вводов (kiv)\n",
      "3. Мониторинг устройств непрерывного контроля и защиты высоковольтных вводов (mon)\n",
      "\n",
      "Выберите № устройства: 3\n",
      "\n",
      "Выбрано устройство: \n",
      "\"Мониторинг устройств непрерывного контроля и защиты высоковольтных вводов\"\n",
      "Системный код устройства - \"mon\"\n",
      "Доступно 24 файла для соединения данных: \n",
      "Файл № 1. upload/mon/22_06/21217004.I\n",
      "Файл № 2. upload/mon/22_07/21217004.I\n",
      "Файл № 3. upload/mon/22_08/21217004.I\n",
      "Файл № 4. upload/mon/22_09/21217004.I\n",
      "Файл № 5. upload/mon/22_10/21217004.I\n",
      "Файл № 6. upload/mon/22_11/21217004.I\n",
      "Файл № 7. upload/mon/22_12/21217004.I\n",
      "Файл № 8. upload/mon/23_01/21217004.I\n",
      "Файл № 9. upload/mon/Данные по АТ-1, АТ-2.АТ-3.АТ-4(Свободненская ТЭС)/АТ-1/23_02/18217006.I\n",
      "Файл № 10. upload/mon/Данные по АТ-1, АТ-2.АТ-3.АТ-4(Свободненская ТЭС)/АТ-1/23_03/18217006.I\n",
      "Файл № 11. upload/mon/Данные по АТ-1, АТ-2.АТ-3.АТ-4(Свободненская ТЭС)/АТ-1/23_04/18217006.I\n",
      "Файл № 12. upload/mon/Данные по АТ-1, АТ-2.АТ-3.АТ-4(Свободненская ТЭС)/АТ-1/23_05/18217006.I\n",
      "Файл № 13. upload/mon/Данные по АТ-1, АТ-2.АТ-3.АТ-4(Свободненская ТЭС)/АТ-2/23_02/19217006.I\n",
      "Файл № 14. upload/mon/Данные по АТ-1, АТ-2.АТ-3.АТ-4(Свободненская ТЭС)/АТ-2/23_03/19217006.I\n",
      "Файл № 15. upload/mon/Данные по АТ-1, АТ-2.АТ-3.АТ-4(Свободненская ТЭС)/АТ-2/23_04/19217006.I\n",
      "Файл № 16. upload/mon/Данные по АТ-1, АТ-2.АТ-3.АТ-4(Свободненская ТЭС)/АТ-2/23_05/19217006.I\n",
      "Файл № 17. upload/mon/Данные по АТ-1, АТ-2.АТ-3.АТ-4(Свободненская ТЭС)/АТ-3/13_01/19217028.I\n",
      "Файл № 18. upload/mon/Данные по АТ-1, АТ-2.АТ-3.АТ-4(Свободненская ТЭС)/АТ-3/23_03/19217028.I\n",
      "Файл № 19. upload/mon/Данные по АТ-1, АТ-2.АТ-3.АТ-4(Свободненская ТЭС)/АТ-3/23_04/19217028.I\n",
      "Файл № 20. upload/mon/Данные по АТ-1, АТ-2.АТ-3.АТ-4(Свободненская ТЭС)/АТ-3/23_05/19217028.I\n",
      "Файл № 21. upload/mon/Данные по АТ-1, АТ-2.АТ-3.АТ-4(Свободненская ТЭС)/АТ-4/23_02/19217029.I\n",
      "Файл № 22. upload/mon/Данные по АТ-1, АТ-2.АТ-3.АТ-4(Свободненская ТЭС)/АТ-4/23_03/19217029.I\n",
      "Файл № 23. upload/mon/Данные по АТ-1, АТ-2.АТ-3.АТ-4(Свободненская ТЭС)/АТ-4/23_04/19217029.I\n",
      "Файл № 24. upload/mon/Данные по АТ-1, АТ-2.АТ-3.АТ-4(Свободненская ТЭС)/АТ-4/23_05/19217029.I\n",
      "Введите номера файлов через пробел, которые нужно соединить для общего анализа (либо введите любой текст для соединения всех): 9-12\n",
      "Начало обработки файла \"upload/mon/Данные по АТ-1, АТ-2.АТ-3.АТ-4(Свободненская ТЭС)/АТ-1/23_02/18217006.I\"\n",
      "Обработка файла окончена\n",
      "Начало обработки файла \"upload/mon/Данные по АТ-1, АТ-2.АТ-3.АТ-4(Свободненская ТЭС)/АТ-1/23_03/18217006.I\"\n",
      "Обработка файла окончена\n",
      "Начало обработки файла \"upload/mon/Данные по АТ-1, АТ-2.АТ-3.АТ-4(Свободненская ТЭС)/АТ-1/23_04/18217006.I\"\n",
      "Обработка файла окончена\n",
      "Начало обработки файла \"upload/mon/Данные по АТ-1, АТ-2.АТ-3.АТ-4(Свободненская ТЭС)/АТ-1/23_05/18217006.I\"\n",
      "Обработка файла окончена\n",
      "Консолидация данных завершена\n"
     ]
    }
   ],
   "source": [
    "#  ______________________________________ SETTING THE ENVIRONMENT ________________________________\n",
    "import datetime\n",
    "import io\n",
    "import os\n",
    "import sys\n",
    "import matplotlib.pyplot as plt\n",
    "import numpy as np\n",
    "import pandas as pd\n",
    "import analyzer\n",
    "import columns\n",
    "import devices\n",
    "import frontend\n",
    "import plots\n",
    "import prints\n",
    "import sadzax\n",
    "sadzax.Out.reconfigure_encoding()\n",
    "sadzax.Out.clear_future_warning()\n",
    "\n",
    "\n",
    "#  ______________________________________ OBTAINING DATA _________________________________________\n",
    "prints.info('Установление параметров для анализа')\n",
    "\n",
    "device_type = prints.device_picking()\n",
    "# device_type = 'mon'\n",
    "dev = device_type\n",
    "# prints.file_picking(dev)\n",
    "# data = devices.Pkl.load(dev)\n",
    "[data, used_files] = analyzer.stack_data(dev)\n",
    "cols_list = columns.columns_list_maker(dev, data)\n",
    "cols = columns.columns_analyzer(dev, cols_list)\n",
    "del cols_list\n",
    "data = analyzer.pass_the_nan(device_type=device_type, data=data, cols=cols)  # update data_types\n",
    "data = analyzer.set_dtypes(device_type=device_type, data=data, cols=cols)\n",
    "# devices.Pkl.save(device_type=device_type, data=data)\n"
   ]
  },
  {
   "cell_type": "code",
   "execution_count": 5,
   "id": "3ecd2dbf",
   "metadata": {},
   "outputs": [
    {
     "name": "stdout",
     "output_type": "stream",
     "text": [
      "\n",
      "          Анализ неразрывности замеров и их корректности\n",
      "\n",
      "          Подсчёт общего количества записей\n",
      "Общее число записей в журнале измерений составило 86398\n",
      "Записи в журнале измерений зафиксированы с 15.02.23 по 15.04.23\n",
      "  \n",
      " Хотите задать конкретный период анализа между двумя датами?\n",
      " Если нет - то будут проанализированы все доступные периоды замеров\n",
      "  yes\n",
      "Доступен период данных с 15.02.2023 по 15.04.2023\n",
      "Доступны данные только в рамках 2023 года, при задании периодов используйте связку \"день-месяц\"\n",
      "Введите дату начала конкретизированного периода: 15 2\n",
      "Задана дата начала периода раньше первой доступной даты, началом периода назначена первая доступная дата 15.02.2023\n",
      "Введите дату конца конкретизированного периода: 15 4\n",
      "\n",
      "          Подсчёт общего количества записей\n",
      "Общее число записей в журнале измерений составило 86398\n",
      "Записи в журнале измерений зафиксированы с 15.02.23 по 15.04.23\n"
     ]
    }
   ],
   "source": [
    "#  ______________________________________ COUNTERS AND TIME ANALYZERS ____________________________\n",
    "prints.info('Анализ неразрывности замеров и их корректности')\n",
    "\n",
    "#  Returning total counter of measures and their period\n",
    "prints.total_log_counter(dev, data)\n",
    "prints.total_periods(dev, data)\n",
    "\n",
    "#  Asking for a period to choose\n",
    "status = sadzax.question(\n",
    "        f\"\\n Хотите задать конкретный период анализа между двумя датами?\"\n",
    "        f\"\\n Если нет - то будут проанализированы все доступные периоды замеров\\n\", yes='y')\n",
    "if status == 'y':\n",
    "    data = analyzer.time_period_choose(data, dev)\n",
    "    prints.total_log_counter(dev, data)\n",
    "    prints.total_periods(dev, data)\n",
    "\n"
   ]
  },
  {
   "cell_type": "code",
   "execution_count": 6,
   "id": "1ce47e66",
   "metadata": {},
   "outputs": [
    {
     "name": "stdout",
     "output_type": "stream",
     "text": [
      "\n",
      "          Анализ трендов и средних показателей\r\n"
     ]
    }
   ],
   "source": [
    "prints.info('Анализ трендов и средних показателей')\n",
    "\n",
    "#  Defining the most usual 'ex'amples (deviation delta and tangent delta) for further correlation analyze\n",
    "trends_params = {\n",
    "    '∆tg': 'Изменения значений ∆tgδ (изменение tgδ относительно начальных значений)',\n",
    "    '∆C': 'Изменения значений ∆C/C1 (изменение емкостей С1 относительно начальных значений)'\n",
    "}\n"
   ]
  },
  {
   "cell_type": "code",
   "execution_count": 9,
   "id": "e4d6ab06",
   "metadata": {},
   "outputs": [
    {
     "name": "stdout",
     "output_type": "stream",
     "text": [
      "\n",
      " ∆tg_HV\n",
      "Средние значения по ∆tg_HV: \n",
      "Среднее по модулю по dtan_A1 составило 0.017\n",
      "Среднее по модулю по dtan_B1 составило 0.02\n",
      "Среднее по модулю по dtan_C1 составило 0.016\n",
      "\n",
      " ∆tg_MV\n",
      "Средние значения по ∆tg_MV: \n",
      "Среднее по модулю по dtan_A2 составило 5.967\n",
      "Среднее по модулю по dtan_B2 составило 6.325\n",
      "Среднее по модулю по dtan_C2 составило 7.661\n",
      "\n",
      " ∆C_HV\n",
      "Средние значения по ∆C_HV: \n",
      "Среднее по модулю по dC_A1 составило 0.185\n",
      "Среднее по модулю по dC_B1 составило 0.2\n",
      "Среднее по модулю по dC_C1 составило 0.288\n",
      "\n",
      " ∆C_MV\n",
      "Средние значения по ∆C_MV: \n",
      "Среднее по модулю по dC_A2 составило 1.787\n",
      "Среднее по модулю по dC_B2 составило 1.736\n",
      "Среднее по модулю по dC_C2 составило 1.423\n"
     ]
    }
   ],
   "source": [
    "for a_key in trends_params.keys():\n",
    "    for a_voltage in ['_HV', '_MV']:\n",
    "        ex = a_key+a_voltage\n",
    "        print('\\n', ex)\n",
    "        prints.average_printer(ex=ex, data=data, cols=cols, abs_parameter=True)"
   ]
  },
  {
   "cell_type": "code",
   "execution_count": null,
   "id": "5dba8c1e",
   "metadata": {},
   "outputs": [],
   "source": []
  },
  {
   "cell_type": "code",
   "execution_count": null,
   "id": "f377245c",
   "metadata": {},
   "outputs": [],
   "source": []
  }
 ],
 "metadata": {
  "kernelspec": {
   "display_name": "Python 3 (ipykernel)",
   "language": "python",
   "name": "python3"
  },
  "language_info": {
   "codemirror_mode": {
    "name": "ipython",
    "version": 3
   },
   "file_extension": ".py",
   "mimetype": "text/x-python",
   "name": "python",
   "nbconvert_exporter": "python",
   "pygments_lexer": "ipython3",
   "version": "3.10.7"
  }
 },
 "nbformat": 4,
 "nbformat_minor": 5
}
